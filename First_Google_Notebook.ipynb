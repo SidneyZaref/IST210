{
  "nbformat": 4,
  "nbformat_minor": 0,
  "metadata": {
    "colab": {
      "name": "First Google Notebook.ipynb",
      "provenance": [],
      "authorship_tag": "ABX9TyPlk+Hi43bkEgz81KXo9cl7",
      "include_colab_link": true
    },
    "kernelspec": {
      "name": "python3",
      "display_name": "Python 3"
    }
  },
  "cells": [
    {
      "cell_type": "markdown",
      "metadata": {
        "id": "view-in-github",
        "colab_type": "text"
      },
      "source": [
        "<a href=\"https://colab.research.google.com/github/SidneyZaref/IST210/blob/master/First_Google_Notebook.ipynb\" target=\"_parent\"><img src=\"https://colab.research.google.com/assets/colab-badge.svg\" alt=\"Open In Colab\"/></a>"
      ]
    },
    {
      "cell_type": "code",
      "metadata": {
        "id": "DpRrONCDi1Io",
        "colab_type": "code",
        "colab": {}
      },
      "source": [
        ""
      ],
      "execution_count": null,
      "outputs": []
    },
    {
      "cell_type": "markdown",
      "metadata": {
        "id": "TTKqaL9Ji7lG",
        "colab_type": "text"
      },
      "source": [
        "###Do you like using Jupyter Notebooks?"
      ]
    },
    {
      "cell_type": "markdown",
      "metadata": {
        "id": "ypQ_pwDDjG2R",
        "colab_type": "text"
      },
      "source": [
        "I like using Jupyter Notebooks so far because it seems relatively easy to use and manage/figure out. I also like it because google makes everything easy to share with others. "
      ]
    },
    {
      "cell_type": "markdown",
      "metadata": {
        "id": "7WmOicvVjlkT",
        "colab_type": "text"
      },
      "source": [
        "###What do you want to learn more about in Jupyter Notebooks?"
      ]
    },
    {
      "cell_type": "markdown",
      "metadata": {
        "id": "GiwAJB_-jrJo",
        "colab_type": "text"
      },
      "source": [
        "I want to learn more about how my classmates and I can collaborate using Jupyter Notebooks. I also would like to learn more of the shortcuts like using \"###\" to make a header. "
      ]
    },
    {
      "cell_type": "markdown",
      "metadata": {
        "id": "cUsgHRPCj98v",
        "colab_type": "text"
      },
      "source": [
        "![Shayna](https://raw.githubusercontent.com/SidneyZaref/IST210/master/Images/Shayna.jpg)"
      ]
    }
  ]
}