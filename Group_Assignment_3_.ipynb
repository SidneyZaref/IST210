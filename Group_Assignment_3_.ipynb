{
  "nbformat": 4,
  "nbformat_minor": 0,
  "metadata": {
    "colab": {
      "name": "Group Assignment 3 GOOD",
      "provenance": [],
      "collapsed_sections": [],
      "include_colab_link": true
    },
    "kernelspec": {
      "name": "python3",
      "display_name": "Python 3"
    }
  },
  "cells": [
    {
      "cell_type": "markdown",
      "metadata": {
        "id": "view-in-github",
        "colab_type": "text"
      },
      "source": [
        "<a href=\"https://colab.research.google.com/github/SidneyZaref/IST210/blob/master/Group_Assignment_3_.ipynb\" target=\"_parent\"><img src=\"https://colab.research.google.com/assets/colab-badge.svg\" alt=\"Open In Colab\"/></a>"
      ]
    },
    {
      "cell_type": "markdown",
      "metadata": {
        "id": "asKRF6nhkIBd"
      },
      "source": [
        "![image](https://raw.githubusercontent.com/taravosborne/IST-210/master/Images/Group%20Assignment%20FNF2.png)"
      ]
    },
    {
      "cell_type": "code",
      "metadata": {
        "colab": {
          "base_uri": "https://localhost:8080/",
          "height": 35
        },
        "id": "nqMcISj5kJbj",
        "outputId": "0374a1ad-9e68-42a6-abc7-4d5f85796088"
      },
      "source": [
        "% load_ext sql\n",
        "%sql sqlite:///electiondatabase.db"
      ],
      "execution_count": null,
      "outputs": [
        {
          "output_type": "execute_result",
          "data": {
            "application/vnd.google.colaboratory.intrinsic+json": {
              "type": "string"
            },
            "text/plain": [
              "'Connected: @electiondatabase.db'"
            ]
          },
          "metadata": {
            "tags": []
          },
          "execution_count": 1
        }
      ]
    },
    {
      "cell_type": "code",
      "metadata": {
        "colab": {
          "base_uri": "https://localhost:8080/"
        },
        "id": "wXTDmdhykTGf",
        "outputId": "ab29df7b-7c76-4676-aecb-c52f8439c933"
      },
      "source": [
        "%%sql\n",
        "create table pollingLocation (LocationID text PRIMARY KEY, state text, country text, building text);\n",
        "create table election (ElectionID text PRIMARY KEY, candidates text, pollingLocation text, ballotsAccepted real);\n",
        "create table ballot (BallotID text PRIMARY KEY, mailIn text, absentee text, inPerson text);\n",
        "create table candidate (CandidateID text PRIMARY KEY, firstName text, lastName text, campaign text);\n",
        "create table politicalParty (PartyID text PRIMARY KEY, Democrat text, Republican text, Independent text);\n",
        "create table campaign (Campaign ID text PRIMARY KEY, candidate text, targetAudience text, estimatedcost real);"
      ],
      "execution_count": null,
      "outputs": [
        {
          "output_type": "stream",
          "text": [
            " * sqlite:///electiondatabase.db\n",
            "Done.\n",
            "Done.\n",
            "Done.\n",
            "Done.\n",
            "Done.\n",
            "Done.\n"
          ],
          "name": "stdout"
        },
        {
          "output_type": "execute_result",
          "data": {
            "text/plain": [
              "[]"
            ]
          },
          "metadata": {
            "tags": []
          },
          "execution_count": 2
        }
      ]
    },
    {
      "cell_type": "code",
      "metadata": {
        "colab": {
          "base_uri": "https://localhost:8080/"
        },
        "id": "dM-zrDK9kXJc",
        "outputId": "696079ec-703b-4e7e-9d53-f32928045584"
      },
      "source": [
        "%%sql\n",
        "insert into pollingLocation values (\"110\", \"Pennsylvania\", \"Centre County\", \"Bryce Jordan Center\");\n",
        "insert into pollingLocation values (\"120\", \"New Jersey\", \"Apple County\", \"Forum Building\");\n",
        "insert into pollingLocation values (\"130\", \"Massachusetts\", \"Banana County\", \"Paterno Library\");\n",
        "insert into pollingLocation values (\"140\", \"Florida\", \"Orange County\", \"HUB\");\n",
        "insert into pollingLocation values (\"150\", \"Texas\", \"Lemon County\", \"Old Main\");\n",
        "\n",
        "insert into election values (\"SZ1230\", \"Sidney Zaref\", \"1\", 40000);\n",
        "insert into election values (\"TO4560\", \"Tara Osborne\", \"2\", 50000);\n",
        "insert into election values (\"JD7890\", \"Jared Dollesin\", \"3\", 60000);\n",
        "insert into election values (\"JD0980\", \"Jane Doe\", \"4\", 70000);\n",
        "insert into election values (\"JS7650\", \"John Smith\", \"5\", 80000);\n",
        "\n",
        "insert into ballot values (\"010\", \"Mail in\", \"N/A\", \"N/A\");\n",
        "insert into ballot values (\"020\", \"N/A\", \"Absentee\", \"N/A\");\n",
        "insert into ballot values (\"030\", \"N/A\", \"N/A\", \"In person\");\n",
        "insert into ballot values (\"040\", \"Main in\", \"N/A\", \"N/A\");\n",
        "insert into ballot values (\"050\", \"N/A\", \"Absentee\", \"N/A\");\n",
        "\n",
        "insert into candidate values (\"SJZ010\", \"Sidney\", \"Zaref\", \"12345\");\n",
        "insert into candidate values (\"TBO020\", \"Tara\", \"Osborne\", \"67890\");\n",
        "insert into candidate values (\"JHD030\", \"Jared\", \"Dosselin\", \"87654\");\n",
        "insert into candidate values (\"JUD040\", \"Jane\", \"Doe\", \"32456\");\n",
        "insert into candidate values (\"JFS050\", \"John\", \"Smith\", \"67120\");\n",
        "\n",
        "insert into politicalParty values (\"PolPar1\", \"Democrat\", \"N/A\", \"N/A\");\n",
        "insert into politicalParty values (\"PolPar2\", \"N/A\", \"Republican\", \"N/A\");\n",
        "insert into politicalParty values (\"PolPar3\", \"N/A\", \"N/A\", \"Independent\");\n",
        "insert into politicalParty values (\"PolPar4\", \"Democrat\", \"N/A\", \"N/A\");\n",
        "insert into politicalParty values (\"PolPar5\", \"N/A\", \"Republican\", \"N/A\");\n",
        "\n",
        "insert into campaign values (\"123450\", \"SJZ01\", \"everyone\", 300000);\n",
        "insert into campaign values (\"678900\", \"TBO02\", \"young\", 400000);\n",
        "insert into campaign values (\"876540\", \"JHD03\", \"old\", 500000);\n",
        "insert into campaign values (\"324560\", \"JUD04\", \"everyone\", 600000);\n",
        "insert into campaign values (\"671200\", \"JFS05\", \"young\", 700000);"
      ],
      "execution_count": null,
      "outputs": [
        {
          "output_type": "stream",
          "text": [
            " * sqlite:///electiondatabase.db\n",
            "1 rows affected.\n",
            "1 rows affected.\n",
            "1 rows affected.\n",
            "1 rows affected.\n",
            "1 rows affected.\n",
            "1 rows affected.\n",
            "1 rows affected.\n",
            "1 rows affected.\n",
            "1 rows affected.\n",
            "1 rows affected.\n",
            "1 rows affected.\n",
            "1 rows affected.\n",
            "1 rows affected.\n",
            "1 rows affected.\n",
            "1 rows affected.\n",
            "1 rows affected.\n",
            "1 rows affected.\n",
            "1 rows affected.\n",
            "1 rows affected.\n",
            "1 rows affected.\n",
            "1 rows affected.\n",
            "1 rows affected.\n",
            "1 rows affected.\n",
            "1 rows affected.\n",
            "1 rows affected.\n",
            "1 rows affected.\n",
            "1 rows affected.\n",
            "1 rows affected.\n",
            "1 rows affected.\n",
            "1 rows affected.\n"
          ],
          "name": "stdout"
        },
        {
          "output_type": "execute_result",
          "data": {
            "text/plain": [
              "[]"
            ]
          },
          "metadata": {
            "tags": []
          },
          "execution_count": 3
        }
      ]
    },
    {
      "cell_type": "code",
      "metadata": {
        "colab": {
          "base_uri": "https://localhost:8080/",
          "height": 179
        },
        "id": "2i-3af7skbpG",
        "outputId": "e803b4a9-762f-49ba-db9c-59db58d7b6f5"
      },
      "source": [
        "%%sql\n",
        "SELECT * from pollingLocation;"
      ],
      "execution_count": null,
      "outputs": [
        {
          "output_type": "stream",
          "text": [
            " * sqlite:///electiondatabase.db\n",
            "Done.\n"
          ],
          "name": "stdout"
        },
        {
          "output_type": "execute_result",
          "data": {
            "text/html": [
              "<table>\n",
              "    <tr>\n",
              "        <th>LocationID</th>\n",
              "        <th>state</th>\n",
              "        <th>country</th>\n",
              "        <th>building</th>\n",
              "    </tr>\n",
              "    <tr>\n",
              "        <td>110</td>\n",
              "        <td>Pennsylvania</td>\n",
              "        <td>Centre County</td>\n",
              "        <td>Bryce Jordan Center</td>\n",
              "    </tr>\n",
              "    <tr>\n",
              "        <td>120</td>\n",
              "        <td>New Jersey</td>\n",
              "        <td>Apple County</td>\n",
              "        <td>Forum Building</td>\n",
              "    </tr>\n",
              "    <tr>\n",
              "        <td>130</td>\n",
              "        <td>Massachusetts</td>\n",
              "        <td>Banana County</td>\n",
              "        <td>Paterno Library</td>\n",
              "    </tr>\n",
              "    <tr>\n",
              "        <td>140</td>\n",
              "        <td>Florida</td>\n",
              "        <td>Orange County</td>\n",
              "        <td>HUB</td>\n",
              "    </tr>\n",
              "    <tr>\n",
              "        <td>150</td>\n",
              "        <td>Texas</td>\n",
              "        <td>Lemon County</td>\n",
              "        <td>Old Main</td>\n",
              "    </tr>\n",
              "</table>"
            ],
            "text/plain": [
              "[('110', 'Pennsylvania', 'Centre County', 'Bryce Jordan Center'),\n",
              " ('120', 'New Jersey', 'Apple County', 'Forum Building'),\n",
              " ('130', 'Massachusetts', 'Banana County', 'Paterno Library'),\n",
              " ('140', 'Florida', 'Orange County', 'HUB'),\n",
              " ('150', 'Texas', 'Lemon County', 'Old Main')]"
            ]
          },
          "metadata": {
            "tags": []
          },
          "execution_count": 4
        }
      ]
    },
    {
      "cell_type": "code",
      "metadata": {
        "colab": {
          "base_uri": "https://localhost:8080/",
          "height": 179
        },
        "id": "XQAcLutDksIB",
        "outputId": "7f4cff83-49e4-4966-cf4a-cf87ba8a9936"
      },
      "source": [
        "%%sql\n",
        "SELECT * from election;"
      ],
      "execution_count": null,
      "outputs": [
        {
          "output_type": "stream",
          "text": [
            " * sqlite:///electiondatabase.db\n",
            "Done.\n"
          ],
          "name": "stdout"
        },
        {
          "output_type": "execute_result",
          "data": {
            "text/html": [
              "<table>\n",
              "    <tr>\n",
              "        <th>ElectionID</th>\n",
              "        <th>candidates</th>\n",
              "        <th>pollingLocation</th>\n",
              "        <th>ballotsAccepted</th>\n",
              "    </tr>\n",
              "    <tr>\n",
              "        <td>SZ1230</td>\n",
              "        <td>Sidney Zaref</td>\n",
              "        <td>1</td>\n",
              "        <td>40000.0</td>\n",
              "    </tr>\n",
              "    <tr>\n",
              "        <td>TO4560</td>\n",
              "        <td>Tara Osborne</td>\n",
              "        <td>2</td>\n",
              "        <td>50000.0</td>\n",
              "    </tr>\n",
              "    <tr>\n",
              "        <td>JD7890</td>\n",
              "        <td>Jared Dollesin</td>\n",
              "        <td>3</td>\n",
              "        <td>60000.0</td>\n",
              "    </tr>\n",
              "    <tr>\n",
              "        <td>JD0980</td>\n",
              "        <td>Jane Doe</td>\n",
              "        <td>4</td>\n",
              "        <td>70000.0</td>\n",
              "    </tr>\n",
              "    <tr>\n",
              "        <td>JS7650</td>\n",
              "        <td>John Smith</td>\n",
              "        <td>5</td>\n",
              "        <td>80000.0</td>\n",
              "    </tr>\n",
              "</table>"
            ],
            "text/plain": [
              "[('SZ1230', 'Sidney Zaref', '1', 40000.0),\n",
              " ('TO4560', 'Tara Osborne', '2', 50000.0),\n",
              " ('JD7890', 'Jared Dollesin', '3', 60000.0),\n",
              " ('JD0980', 'Jane Doe', '4', 70000.0),\n",
              " ('JS7650', 'John Smith', '5', 80000.0)]"
            ]
          },
          "metadata": {
            "tags": []
          },
          "execution_count": 5
        }
      ]
    },
    {
      "cell_type": "code",
      "metadata": {
        "colab": {
          "base_uri": "https://localhost:8080/",
          "height": 179
        },
        "id": "zjEUPERqkx2R",
        "outputId": "952b874d-d4ff-4b49-ddeb-f35090f5468a"
      },
      "source": [
        "%%sql\n",
        "SELECT * from ballot;"
      ],
      "execution_count": null,
      "outputs": [
        {
          "output_type": "stream",
          "text": [
            " * sqlite:///electiondatabase.db\n",
            "Done.\n"
          ],
          "name": "stdout"
        },
        {
          "output_type": "execute_result",
          "data": {
            "text/html": [
              "<table>\n",
              "    <tr>\n",
              "        <th>BallotID</th>\n",
              "        <th>mailIn</th>\n",
              "        <th>absentee</th>\n",
              "        <th>inPerson</th>\n",
              "    </tr>\n",
              "    <tr>\n",
              "        <td>010</td>\n",
              "        <td>Mail in</td>\n",
              "        <td>N/A</td>\n",
              "        <td>N/A</td>\n",
              "    </tr>\n",
              "    <tr>\n",
              "        <td>020</td>\n",
              "        <td>N/A</td>\n",
              "        <td>Absentee</td>\n",
              "        <td>N/A</td>\n",
              "    </tr>\n",
              "    <tr>\n",
              "        <td>030</td>\n",
              "        <td>N/A</td>\n",
              "        <td>N/A</td>\n",
              "        <td>In person</td>\n",
              "    </tr>\n",
              "    <tr>\n",
              "        <td>040</td>\n",
              "        <td>Main in</td>\n",
              "        <td>N/A</td>\n",
              "        <td>N/A</td>\n",
              "    </tr>\n",
              "    <tr>\n",
              "        <td>050</td>\n",
              "        <td>N/A</td>\n",
              "        <td>Absentee</td>\n",
              "        <td>N/A</td>\n",
              "    </tr>\n",
              "</table>"
            ],
            "text/plain": [
              "[('010', 'Mail in', 'N/A', 'N/A'),\n",
              " ('020', 'N/A', 'Absentee', 'N/A'),\n",
              " ('030', 'N/A', 'N/A', 'In person'),\n",
              " ('040', 'Main in', 'N/A', 'N/A'),\n",
              " ('050', 'N/A', 'Absentee', 'N/A')]"
            ]
          },
          "metadata": {
            "tags": []
          },
          "execution_count": 6
        }
      ]
    },
    {
      "cell_type": "code",
      "metadata": {
        "colab": {
          "base_uri": "https://localhost:8080/",
          "height": 179
        },
        "id": "_g28OdFok20g",
        "outputId": "3ada488d-105f-4285-c911-00901177f15e"
      },
      "source": [
        "%%sql\n",
        "SELECT * from candidate;"
      ],
      "execution_count": null,
      "outputs": [
        {
          "output_type": "stream",
          "text": [
            " * sqlite:///electiondatabase.db\n",
            "Done.\n"
          ],
          "name": "stdout"
        },
        {
          "output_type": "execute_result",
          "data": {
            "text/html": [
              "<table>\n",
              "    <tr>\n",
              "        <th>CandidateID</th>\n",
              "        <th>firstName</th>\n",
              "        <th>lastName</th>\n",
              "        <th>campaign</th>\n",
              "    </tr>\n",
              "    <tr>\n",
              "        <td>SJZ010</td>\n",
              "        <td>Sidney</td>\n",
              "        <td>Zaref</td>\n",
              "        <td>12345</td>\n",
              "    </tr>\n",
              "    <tr>\n",
              "        <td>TBO020</td>\n",
              "        <td>Tara</td>\n",
              "        <td>Osborne</td>\n",
              "        <td>67890</td>\n",
              "    </tr>\n",
              "    <tr>\n",
              "        <td>JHD030</td>\n",
              "        <td>Jared</td>\n",
              "        <td>Dosselin</td>\n",
              "        <td>87654</td>\n",
              "    </tr>\n",
              "    <tr>\n",
              "        <td>JUD040</td>\n",
              "        <td>Jane</td>\n",
              "        <td>Doe</td>\n",
              "        <td>32456</td>\n",
              "    </tr>\n",
              "    <tr>\n",
              "        <td>JFS050</td>\n",
              "        <td>John</td>\n",
              "        <td>Smith</td>\n",
              "        <td>67120</td>\n",
              "    </tr>\n",
              "</table>"
            ],
            "text/plain": [
              "[('SJZ010', 'Sidney', 'Zaref', '12345'),\n",
              " ('TBO020', 'Tara', 'Osborne', '67890'),\n",
              " ('JHD030', 'Jared', 'Dosselin', '87654'),\n",
              " ('JUD040', 'Jane', 'Doe', '32456'),\n",
              " ('JFS050', 'John', 'Smith', '67120')]"
            ]
          },
          "metadata": {
            "tags": []
          },
          "execution_count": 7
        }
      ]
    },
    {
      "cell_type": "code",
      "metadata": {
        "colab": {
          "base_uri": "https://localhost:8080/",
          "height": 179
        },
        "id": "zhVXzj9Yk7u6",
        "outputId": "6505e1ed-6c6b-40fe-ce73-f5180a8bc112"
      },
      "source": [
        "%%sql\n",
        "SELECT * from politicalParty;"
      ],
      "execution_count": null,
      "outputs": [
        {
          "output_type": "stream",
          "text": [
            " * sqlite:///electiondatabase.db\n",
            "Done.\n"
          ],
          "name": "stdout"
        },
        {
          "output_type": "execute_result",
          "data": {
            "text/html": [
              "<table>\n",
              "    <tr>\n",
              "        <th>PartyID</th>\n",
              "        <th>Democrat</th>\n",
              "        <th>Republican</th>\n",
              "        <th>Independent</th>\n",
              "    </tr>\n",
              "    <tr>\n",
              "        <td>PolPar1</td>\n",
              "        <td>Democrat</td>\n",
              "        <td>N/A</td>\n",
              "        <td>N/A</td>\n",
              "    </tr>\n",
              "    <tr>\n",
              "        <td>PolPar2</td>\n",
              "        <td>N/A</td>\n",
              "        <td>Republican</td>\n",
              "        <td>N/A</td>\n",
              "    </tr>\n",
              "    <tr>\n",
              "        <td>PolPar3</td>\n",
              "        <td>N/A</td>\n",
              "        <td>N/A</td>\n",
              "        <td>Independent</td>\n",
              "    </tr>\n",
              "    <tr>\n",
              "        <td>PolPar4</td>\n",
              "        <td>Democrat</td>\n",
              "        <td>N/A</td>\n",
              "        <td>N/A</td>\n",
              "    </tr>\n",
              "    <tr>\n",
              "        <td>PolPar5</td>\n",
              "        <td>N/A</td>\n",
              "        <td>Republican</td>\n",
              "        <td>N/A</td>\n",
              "    </tr>\n",
              "</table>"
            ],
            "text/plain": [
              "[('PolPar1', 'Democrat', 'N/A', 'N/A'),\n",
              " ('PolPar2', 'N/A', 'Republican', 'N/A'),\n",
              " ('PolPar3', 'N/A', 'N/A', 'Independent'),\n",
              " ('PolPar4', 'Democrat', 'N/A', 'N/A'),\n",
              " ('PolPar5', 'N/A', 'Republican', 'N/A')]"
            ]
          },
          "metadata": {
            "tags": []
          },
          "execution_count": 8
        }
      ]
    },
    {
      "cell_type": "code",
      "metadata": {
        "colab": {
          "base_uri": "https://localhost:8080/",
          "height": 179
        },
        "id": "4aaO2-VQlBlq",
        "outputId": "2565af8b-d9d9-442e-88fe-8d511ccba6a1"
      },
      "source": [
        "%%sql\n",
        "SELECT * from campaign;"
      ],
      "execution_count": null,
      "outputs": [
        {
          "output_type": "stream",
          "text": [
            " * sqlite:///electiondatabase.db\n",
            "Done.\n"
          ],
          "name": "stdout"
        },
        {
          "output_type": "execute_result",
          "data": {
            "text/html": [
              "<table>\n",
              "    <tr>\n",
              "        <th>Campaign</th>\n",
              "        <th>candidate</th>\n",
              "        <th>targetAudience</th>\n",
              "        <th>estimatedcost</th>\n",
              "    </tr>\n",
              "    <tr>\n",
              "        <td>123450</td>\n",
              "        <td>SJZ01</td>\n",
              "        <td>everyone</td>\n",
              "        <td>300000.0</td>\n",
              "    </tr>\n",
              "    <tr>\n",
              "        <td>678900</td>\n",
              "        <td>TBO02</td>\n",
              "        <td>young</td>\n",
              "        <td>400000.0</td>\n",
              "    </tr>\n",
              "    <tr>\n",
              "        <td>876540</td>\n",
              "        <td>JHD03</td>\n",
              "        <td>old</td>\n",
              "        <td>500000.0</td>\n",
              "    </tr>\n",
              "    <tr>\n",
              "        <td>324560</td>\n",
              "        <td>JUD04</td>\n",
              "        <td>everyone</td>\n",
              "        <td>600000.0</td>\n",
              "    </tr>\n",
              "    <tr>\n",
              "        <td>671200</td>\n",
              "        <td>JFS05</td>\n",
              "        <td>young</td>\n",
              "        <td>700000.0</td>\n",
              "    </tr>\n",
              "</table>"
            ],
            "text/plain": [
              "[('123450', 'SJZ01', 'everyone', 300000.0),\n",
              " ('678900', 'TBO02', 'young', 400000.0),\n",
              " ('876540', 'JHD03', 'old', 500000.0),\n",
              " ('324560', 'JUD04', 'everyone', 600000.0),\n",
              " ('671200', 'JFS05', 'young', 700000.0)]"
            ]
          },
          "metadata": {
            "tags": []
          },
          "execution_count": 9
        }
      ]
    },
    {
      "cell_type": "markdown",
      "metadata": {
        "id": "uaSw_VltlU4i"
      },
      "source": [
        "1. Which campaign spent the most money in descending order?"
      ]
    },
    {
      "cell_type": "code",
      "metadata": {
        "colab": {
          "base_uri": "https://localhost:8080/",
          "height": 179
        },
        "id": "bEKbFX1emY0L",
        "outputId": "eec45c11-39bc-416c-b6a5-3c3bfc571cbf"
      },
      "source": [
        "%%sql\n",
        "SELECT * from campaign ORDER BY estimatedcost DESC;"
      ],
      "execution_count": null,
      "outputs": [
        {
          "output_type": "stream",
          "text": [
            " * sqlite:///electiondatabase.db\n",
            "Done.\n"
          ],
          "name": "stdout"
        },
        {
          "output_type": "execute_result",
          "data": {
            "text/html": [
              "<table>\n",
              "    <tr>\n",
              "        <th>Campaign</th>\n",
              "        <th>candidate</th>\n",
              "        <th>targetAudience</th>\n",
              "        <th>estimatedcost</th>\n",
              "    </tr>\n",
              "    <tr>\n",
              "        <td>671200</td>\n",
              "        <td>JFS05</td>\n",
              "        <td>young</td>\n",
              "        <td>700000.0</td>\n",
              "    </tr>\n",
              "    <tr>\n",
              "        <td>324560</td>\n",
              "        <td>JUD04</td>\n",
              "        <td>everyone</td>\n",
              "        <td>600000.0</td>\n",
              "    </tr>\n",
              "    <tr>\n",
              "        <td>876540</td>\n",
              "        <td>JHD03</td>\n",
              "        <td>old</td>\n",
              "        <td>500000.0</td>\n",
              "    </tr>\n",
              "    <tr>\n",
              "        <td>678900</td>\n",
              "        <td>TBO02</td>\n",
              "        <td>young</td>\n",
              "        <td>400000.0</td>\n",
              "    </tr>\n",
              "    <tr>\n",
              "        <td>123450</td>\n",
              "        <td>SJZ01</td>\n",
              "        <td>everyone</td>\n",
              "        <td>300000.0</td>\n",
              "    </tr>\n",
              "</table>"
            ],
            "text/plain": [
              "[('671200', 'JFS05', 'young', 700000.0),\n",
              " ('324560', 'JUD04', 'everyone', 600000.0),\n",
              " ('876540', 'JHD03', 'old', 500000.0),\n",
              " ('678900', 'TBO02', 'young', 400000.0),\n",
              " ('123450', 'SJZ01', 'everyone', 300000.0)]"
            ]
          },
          "metadata": {
            "tags": []
          },
          "execution_count": 12
        }
      ]
    },
    {
      "cell_type": "markdown",
      "metadata": {
        "id": "IVlmCbHPXS5b"
      },
      "source": [
        "This question is important as it may help studies looking into how much each campaign spent over the course of the election get better data. Additionally, future candidates could use this information to get a better idea of about how much it would cost for them to run a campaign. The results returned from this question were expected."
      ]
    },
    {
      "cell_type": "markdown",
      "metadata": {
        "id": "BSzAUHLunC09"
      },
      "source": [
        "2. How many candidates recieved between 50000 AND 70000 ballots?"
      ]
    },
    {
      "cell_type": "code",
      "metadata": {
        "colab": {
          "base_uri": "https://localhost:8080/",
          "height": 95
        },
        "id": "ef-Hydw-nSYN",
        "outputId": "48a6f2f6-07fd-409c-eeb2-0e104d1cbaa2"
      },
      "source": [
        "%%sql\n",
        "SELECT Count(ElectionID) from election WHERE ballotsAccepted between 50000 AND 70000; "
      ],
      "execution_count": null,
      "outputs": [
        {
          "output_type": "stream",
          "text": [
            " * sqlite:///electiondatabase.db\n",
            "Done.\n"
          ],
          "name": "stdout"
        },
        {
          "output_type": "execute_result",
          "data": {
            "text/html": [
              "<table>\n",
              "    <tr>\n",
              "        <th>Count(ElectionID)</th>\n",
              "    </tr>\n",
              "    <tr>\n",
              "        <td>3</td>\n",
              "    </tr>\n",
              "</table>"
            ],
            "text/plain": [
              "[(3,)]"
            ]
          },
          "metadata": {
            "tags": []
          },
          "execution_count": 13
        }
      ]
    },
    {
      "cell_type": "markdown",
      "metadata": {
        "id": "FJIUWiETYKKR"
      },
      "source": [
        "The reason this question is important is that we could use this question to get a better idea of how many candidates got a number of votes within this range. As such, we could use this info in a study to figure out how many candidates were truly competitive. Additionally, this question could simply be used for easier organization of candidates. The result of this question was esxected."
      ]
    },
    {
      "cell_type": "markdown",
      "metadata": {
        "id": "mW7-2T-Xn3fS"
      },
      "source": [
        "3. Find all candidates who have a J in their first name."
      ]
    },
    {
      "cell_type": "code",
      "metadata": {
        "id": "Pa67G_gkopyU",
        "colab": {
          "base_uri": "https://localhost:8080/",
          "height": 137
        },
        "outputId": "aa27cd8a-c745-4785-daaa-244ba7cc0b6f"
      },
      "source": [
        "%%sql\n",
        "SELECT * from candidate WHERE firstName LIKE \"J%\";"
      ],
      "execution_count": null,
      "outputs": [
        {
          "output_type": "stream",
          "text": [
            " * sqlite:///electiondatabase.db\n",
            "Done.\n"
          ],
          "name": "stdout"
        },
        {
          "output_type": "execute_result",
          "data": {
            "text/html": [
              "<table>\n",
              "    <tr>\n",
              "        <th>CandidateID</th>\n",
              "        <th>firstName</th>\n",
              "        <th>lastName</th>\n",
              "        <th>campaign</th>\n",
              "    </tr>\n",
              "    <tr>\n",
              "        <td>JHD030</td>\n",
              "        <td>Jared</td>\n",
              "        <td>Dosselin</td>\n",
              "        <td>87654</td>\n",
              "    </tr>\n",
              "    <tr>\n",
              "        <td>JUD040</td>\n",
              "        <td>Jane</td>\n",
              "        <td>Doe</td>\n",
              "        <td>32456</td>\n",
              "    </tr>\n",
              "    <tr>\n",
              "        <td>JFS050</td>\n",
              "        <td>John</td>\n",
              "        <td>Smith</td>\n",
              "        <td>67120</td>\n",
              "    </tr>\n",
              "</table>"
            ],
            "text/plain": [
              "[('JHD030', 'Jared', 'Dosselin', '87654'),\n",
              " ('JUD040', 'Jane', 'Doe', '32456'),\n",
              " ('JFS050', 'John', 'Smith', '67120')]"
            ]
          },
          "metadata": {
            "tags": []
          },
          "execution_count": 14
        }
      ]
    },
    {
      "cell_type": "markdown",
      "metadata": {
        "id": "mMje4_53Ztr3"
      },
      "source": [
        "This question is important as it makes organizing candidates much easier, as we could repeat this question multiple times with different letters in order to group every candidate based on the first letter of their first name. This would be much more helpful in a situation that dealt with more candidates than we have listed here. The results of this question were what we expected."
      ]
    }
  ]
}