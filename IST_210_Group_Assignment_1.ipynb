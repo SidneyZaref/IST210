{
  "nbformat": 4,
  "nbformat_minor": 0,
  "metadata": {
    "colab": {
      "name": "IST 210 Group Assignment 1",
      "provenance": [],
      "collapsed_sections": [],
      "include_colab_link": true
    },
    "kernelspec": {
      "name": "python3",
      "display_name": "Python 3"
    }
  },
  "cells": [
    {
      "cell_type": "markdown",
      "metadata": {
        "id": "view-in-github",
        "colab_type": "text"
      },
      "source": [
        "<a href=\"https://colab.research.google.com/github/SidneyZaref/IST210/blob/master/IST_210_Group_Assignment_1.ipynb\" target=\"_parent\"><img src=\"https://colab.research.google.com/assets/colab-badge.svg\" alt=\"Open In Colab\"/></a>"
      ]
    },
    {
      "cell_type": "markdown",
      "metadata": {
        "id": "UblhAIGuGF27",
        "colab_type": "text"
      },
      "source": [
        "# 2020 Election"
      ]
    },
    {
      "cell_type": "markdown",
      "metadata": {
        "id": "RlR0_Ol4GW3b",
        "colab_type": "text"
      },
      "source": [
        "### what is your idea?"
      ]
    },
    {
      "cell_type": "markdown",
      "metadata": {
        "id": "HU68Zv5MGY97",
        "colab_type": "text"
      },
      "source": [
        "We decided to represent the 2020 election in terms of the different aspects of data that may be considered. While the election is incredibly complex and detailed, we took the major aspects such as the political parties, candidates, types of polls, etc. into consideration. "
      ]
    },
    {
      "cell_type": "markdown",
      "metadata": {
        "id": "45Q0PBrIGiIg",
        "colab_type": "text"
      },
      "source": [
        "### what makes it unique?"
      ]
    },
    {
      "cell_type": "markdown",
      "metadata": {
        "id": "8WOfTAuqGjoc",
        "colab_type": "text"
      },
      "source": [
        "Many groups may consider representing different companies, schools, or organizations. The 2020 election contains several different companies and organizations and is vastly everchanging especially during a global pandemic. \n",
        "\n",
        "> Indented block\n",
        "\n"
      ]
    },
    {
      "cell_type": "markdown",
      "metadata": {
        "id": "dVrktWdXGl19",
        "colab_type": "text"
      },
      "source": [
        "### is this a brand-new product or business, or are you borrowing from another business?"
      ]
    },
    {
      "cell_type": "markdown",
      "metadata": {
        "id": "MmGY0leUGnaN",
        "colab_type": "text"
      },
      "source": [
        "We did not come up with this event; rather, we are borrowing different aspects from the election and connecting them together in a more simplified verison. To represent every single detail of the 2020 election will create an incredibly complex web of interconnected entities that would be far too confusing for our purposes, so we decided to consider only the major themes of the election instead of every little detail. "
      ]
    },
    {
      "cell_type": "markdown",
      "metadata": {
        "id": "k3oJzVDPGnws",
        "colab_type": "text"
      },
      "source": [
        "### describe a typical business interaction or a day at your business."
      ]
    },
    {
      "cell_type": "markdown",
      "metadata": {
        "id": "GeEKl-lUG1x5",
        "colab_type": "text"
      },
      "source": [
        "On the day of the election, people who are voting in person will go to their designated polling location and present their voter registration ID. Then, they will enter the booth and vote for their desired candidate. For those who opted to vote via mail, their vote has already been sent through the mail to be counted. As the voting is going on, the machines will be continuously counting the votes to ultimately determine the winner of the majority vote. "
      ]
    },
    {
      "cell_type": "markdown",
      "metadata": {
        "id": "iUFoC5BuGpID",
        "colab_type": "text"
      },
      "source": [
        "### list your 5 entities/tables and for each, provide details about what data will be stored in the entities/tables."
      ]
    },
    {
      "cell_type": "markdown",
      "metadata": {
        "id": "AiZXrfSMGqZm",
        "colab_type": "text"
      },
      "source": [
        "1. Political Parties\n",
        "\n",
        "Democrat, Republican, and Independent\n",
        "\n",
        "2. Polling Locations\n",
        "\n",
        "State, County, Building\n",
        "\n",
        "3. Types of Ballots\n",
        "\n",
        "Mail-in and in person\n",
        "\n",
        "4. Campaign Type\n",
        "\n",
        "Tv advertisement, banners, social media ads\n",
        "\n",
        "5. Candidates\n",
        "\n",
        "Democrat, Republican, and incumbent if applicable"
      ]
    },
    {
      "cell_type": "markdown",
      "metadata": {
        "id": "h2mJWTewHLSn",
        "colab_type": "text"
      },
      "source": [
        "Draw IO Entity Relationship Diagram \n",
        "\n",
        "![Diagram](https://raw.githubusercontent.com/SidneyZaref/IST210/master/Images/GroupAssignment1.png)"
      ]
    },
    {
      "cell_type": "markdown",
      "metadata": {
        "id": "WFQXwieoHiCe",
        "colab_type": "text"
      },
      "source": [
        "### provide a goal for your project "
      ]
    },
    {
      "cell_type": "markdown",
      "metadata": {
        "id": "cKmoiVHrHnHF",
        "colab_type": "text"
      },
      "source": [
        "The goal of our project was to create a streamlined diagram of the details of the 2020 election. As such, we only included the major bits of information that a voter would need in order to make a decision."
      ]
    }
  ]
}