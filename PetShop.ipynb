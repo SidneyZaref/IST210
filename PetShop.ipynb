{
  "nbformat": 4,
  "nbformat_minor": 0,
  "metadata": {
    "colab": {
      "name": "PetShop.ipynb",
      "provenance": [],
      "collapsed_sections": [],
      "authorship_tag": "ABX9TyNdmAYI480KgZ5qsC+WEzMV",
      "include_colab_link": true
    },
    "kernelspec": {
      "name": "python3",
      "display_name": "Python 3"
    }
  },
  "cells": [
    {
      "cell_type": "markdown",
      "metadata": {
        "id": "view-in-github",
        "colab_type": "text"
      },
      "source": [
        "<a href=\"https://colab.research.google.com/github/SidneyZaref/IST210/blob/master/PetShop.ipynb\" target=\"_parent\"><img src=\"https://colab.research.google.com/assets/colab-badge.svg\" alt=\"Open In Colab\"/></a>"
      ]
    },
    {
      "cell_type": "markdown",
      "metadata": {
        "id": "-aLxdqTdHPxK"
      },
      "source": [
        "![PetShop Diagram](https://raw.githubusercontent.com/SidneyZaref/IST210/master/Images/GOOD%20PetShop.png)"
      ]
    },
    {
      "cell_type": "markdown",
      "metadata": {
        "id": "BZEQQF16Hu_p"
      },
      "source": [
        "In this ER diagram I focused my entities on Animals, The Pet Store itself, Food, Transactions, the Owner of the animal/Customer of the store and Rewards Members. The Animals belong in a Pet store, eat a certain type of food, and reqards members are able to get discounts when pruchasing an animal. The Pet store sells food, has numerous customers visit, and holds animals. The Customer is able to visit the store, purchase food and animals, complete the transactions for those, and are able to be a rewards customer. The Transactions are completed by the customer and an employee. The Rewards members are able to get discounts on food and animals. Lastly, food is eaten by an animals, purchased by a customer or rewards member, and stored in the store. "
      ]
    }
  ]
}